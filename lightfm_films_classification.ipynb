{
  "nbformat": 4,
  "nbformat_minor": 0,
  "metadata": {
    "colab": {
      "name": "lightfm_films_classification.ipynb",
      "provenance": []
    },
    "kernelspec": {
      "name": "python3",
      "display_name": "Python 3"
    }
  },
  "cells": [
    {
      "cell_type": "code",
      "metadata": {
        "id": "8bkvOpINBEQC"
      },
      "source": [
        "import numpy as np\n",
        "from lightfm.datasets import fetch_movielens\n",
        "from lightfm import LightFM\n"
      ],
      "execution_count": null,
      "outputs": []
    },
    {
      "cell_type": "code",
      "metadata": {
        "id": "7j-OSoofDD9e"
      },
      "source": [
        "pip install lightfm"
      ],
      "execution_count": null,
      "outputs": []
    },
    {
      "cell_type": "code",
      "metadata": {
        "id": "lQxlQQurCTsd"
      },
      "source": [
        "#fetch data and format it\n",
        "data = fetch_movielens(min_rating=4.0)"
      ],
      "execution_count": null,
      "outputs": []
    },
    {
      "cell_type": "code",
      "metadata": {
        "id": "t6bT3NjPCnkO",
        "colab": {
          "base_uri": "https://localhost:8080/",
          "height": 84
        },
        "outputId": "4bf6c856-a732-407b-f168-c7448093acd6"
      },
      "source": [
        "#print training and test data\n",
        "print(repr(data['train']))\n",
        "print(repr(data['test']))"
      ],
      "execution_count": null,
      "outputs": [
        {
          "output_type": "stream",
          "text": [
            "<943x1682 sparse matrix of type '<class 'numpy.int32'>'\n",
            "\twith 49906 stored elements in COOrdinate format>\n",
            "<943x1682 sparse matrix of type '<class 'numpy.int32'>'\n",
            "\twith 5469 stored elements in COOrdinate format>\n"
          ],
          "name": "stdout"
        }
      ]
    },
    {
      "cell_type": "code",
      "metadata": {
        "id": "Eu6RW2trCvPT",
        "colab": {
          "base_uri": "https://localhost:8080/",
          "height": 470
        },
        "outputId": "67d8159a-ab6d-47e7-ebb2-454af7a73f11"
      },
      "source": [
        "model = LightFM(loss = 'warp')\n",
        "#warp  Weighted Approximate Rank Pairwise\n",
        "#creates recommendation using existing user rating. predicting ranking for each\n",
        "#content + collaborative\n",
        "\n",
        "model.fit(data['train'], epochs= 30, num_threads = 2) # parallel computation\n",
        "\n",
        "def sample_recommendation(model, data, user_ids):\n",
        "\n",
        "  # # of usrs and movies in train data\n",
        "  n_users,n_items = data['train'].shape \n",
        "  for user_id in user_ids:\n",
        "     #moveies they already like\n",
        "     known_positives = data['item_labels'][data['train'].tocsr()[user_id].indices]\n",
        "     #movies our model prdicts they will like\n",
        "     scores = model.predict(user_id, np.arange(n_items))\n",
        "     #rank them in order of most liked to least\n",
        "     top_items = data['item_labels'][np.argsort(-scores)]\n",
        "\n",
        "     # print out the results\n",
        "     print(\"user %s\" % user_id)\n",
        "     print(\"        known positives: \")\n",
        "     for x in known_positives[:3]:\n",
        "       print(\"           %s\"% x)\n",
        "\n",
        "     print( \"              Recommended: \")\n",
        "    \n",
        "     for x in top_items[:3]:\n",
        "       print(\"             %s\" %x)\n",
        "sample_recommendation(model,data,[3,25,450])"
      ],
      "execution_count": null,
      "outputs": [
        {
          "output_type": "stream",
          "text": [
            "user 3\n",
            "        known positives: \n",
            "           Seven (Se7en) (1995)\n",
            "           Contact (1997)\n",
            "           Starship Troopers (1997)\n",
            "              Recommended: \n",
            "             Scream (1996)\n",
            "             Game, The (1997)\n",
            "             Contact (1997)\n",
            "user 25\n",
            "        known positives: \n",
            "           Dead Man Walking (1995)\n",
            "           Star Wars (1977)\n",
            "           Fargo (1996)\n",
            "              Recommended: \n",
            "             Contact (1997)\n",
            "             Fargo (1996)\n",
            "             English Patient, The (1996)\n",
            "user 450\n",
            "        known positives: \n",
            "           Contact (1997)\n",
            "           George of the Jungle (1997)\n",
            "           Event Horizon (1997)\n",
            "              Recommended: \n",
            "             Scream (1996)\n",
            "             Kiss the Girls (1997)\n",
            "             I Know What You Did Last Summer (1997)\n"
          ],
          "name": "stdout"
        }
      ]
    },
    {
      "cell_type": "code",
      "metadata": {
        "id": "uzGySvLgE3-G"
      },
      "source": [
        "\"\""
      ],
      "execution_count": null,
      "outputs": []
    }
  ]
}